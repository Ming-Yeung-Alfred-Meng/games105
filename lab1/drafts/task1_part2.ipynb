{
 "cells": [
  {
   "cell_type": "code",
   "execution_count": 11,
   "outputs": [],
   "source": [
    "import numpy as np\n",
    "from lab1.Lab1_FK_answers import *\n",
    "from scipy.spatial.transform import Rotation as R"
   ],
   "metadata": {
    "collapsed": false,
    "ExecuteTime": {
     "end_time": "2023-10-31T23:04:52.025888Z",
     "start_time": "2023-10-31T23:04:51.964743Z"
    }
   },
   "id": "c3765d5e26d10c22"
  },
  {
   "cell_type": "code",
   "execution_count": null,
   "outputs": [],
   "source": [
    "bvh = open(\"../data/walk60.bvh\", 'r')"
   ],
   "metadata": {
    "collapsed": false
   },
   "id": "8c856a4133e17977"
  },
  {
   "cell_type": "code",
   "execution_count": null,
   "outputs": [],
   "source": [
    "line = bvh.readline()\n",
    "while line != \"MOTION\\n\":\n",
    "    line = bvh.readline()"
   ],
   "metadata": {
    "collapsed": false
   },
   "id": "b42d3a605da1a02d"
  },
  {
   "cell_type": "code",
   "execution_count": null,
   "outputs": [],
   "source": [
    "line = bvh.readline()"
   ],
   "metadata": {
    "collapsed": false
   },
   "id": "af15488b25fdefed"
  },
  {
   "cell_type": "code",
   "execution_count": null,
   "outputs": [],
   "source": [
    "line"
   ],
   "metadata": {
    "collapsed": false
   },
   "id": "add5f9b73e4ba47b"
  },
  {
   "cell_type": "code",
   "execution_count": null,
   "outputs": [],
   "source": [
    "line.split()"
   ],
   "metadata": {
    "collapsed": false
   },
   "id": "d4dd256ea1c0583d"
  },
  {
   "cell_type": "code",
   "execution_count": null,
   "outputs": [],
   "source": [
    "len(line.split())"
   ],
   "metadata": {
    "collapsed": false
   },
   "id": "53f6a9b1551fe2a2"
  },
  {
   "cell_type": "code",
   "execution_count": null,
   "outputs": [],
   "source": [
    "306 - 125 + 2"
   ],
   "metadata": {
    "collapsed": false
   },
   "id": "e1e4d5a04ed0480"
  },
  {
   "cell_type": "code",
   "execution_count": 12,
   "outputs": [],
   "source": [
    "bvh_path = \"../data/walk60.bvh\""
   ],
   "metadata": {
    "collapsed": false,
    "ExecuteTime": {
     "end_time": "2023-10-31T23:04:54.435011Z",
     "start_time": "2023-10-31T23:04:54.418569Z"
    }
   },
   "id": "9829afffe657bd5e"
  },
  {
   "cell_type": "code",
   "execution_count": 14,
   "outputs": [
    {
     "data": {
      "text/plain": "array([-0.001735,  0.855388,  0.315499])"
     },
     "execution_count": 14,
     "metadata": {},
     "output_type": "execute_result"
    }
   ],
   "source": [
    "load_motion_data(bvh_path)[0, :3]"
   ],
   "metadata": {
    "collapsed": false,
    "ExecuteTime": {
     "end_time": "2023-10-31T23:05:27.578346Z",
     "start_time": "2023-10-31T23:05:27.501006Z"
    }
   },
   "id": "f6277d1e867ac791"
  },
  {
   "cell_type": "code",
   "execution_count": 3,
   "outputs": [],
   "source": [
    "a = np.arange(9)\n",
    "b = a.reshape(-1, 3)"
   ],
   "metadata": {
    "collapsed": false,
    "ExecuteTime": {
     "end_time": "2023-10-31T07:19:57.129700Z",
     "start_time": "2023-10-31T07:19:57.106107Z"
    }
   },
   "id": "1a3f02ee282a3dc3"
  },
  {
   "cell_type": "code",
   "execution_count": 6,
   "outputs": [
    {
     "data": {
      "text/plain": "array([[0, 1, 2],\n       [3, 4, 5],\n       [6, 7, 8]])"
     },
     "execution_count": 6,
     "metadata": {},
     "output_type": "execute_result"
    }
   ],
   "source": [
    "b"
   ],
   "metadata": {
    "collapsed": false,
    "ExecuteTime": {
     "end_time": "2023-10-31T07:20:11.502435Z",
     "start_time": "2023-10-31T07:20:11.451412Z"
    }
   },
   "id": "c8f421da08dbc98c"
  },
  {
   "cell_type": "code",
   "execution_count": 8,
   "outputs": [],
   "source": [
    "b[1:][0, 0] = 999"
   ],
   "metadata": {
    "collapsed": false,
    "ExecuteTime": {
     "end_time": "2023-10-31T07:20:29.005804Z",
     "start_time": "2023-10-31T07:20:28.901339Z"
    }
   },
   "id": "e4fc9b75df3ae9c"
  },
  {
   "cell_type": "code",
   "execution_count": 9,
   "outputs": [
    {
     "data": {
      "text/plain": "array([  0,   1,   2, 999,   4,   5,   6,   7,   8])"
     },
     "execution_count": 9,
     "metadata": {},
     "output_type": "execute_result"
    }
   ],
   "source": [
    "a"
   ],
   "metadata": {
    "collapsed": false,
    "ExecuteTime": {
     "end_time": "2023-10-31T07:20:32.475042Z",
     "start_time": "2023-10-31T07:20:32.384628Z"
    }
   },
   "id": "fc70e4bcb1686022"
  },
  {
   "cell_type": "code",
   "execution_count": 10,
   "outputs": [
    {
     "data": {
      "text/plain": "(array([[  0,   1,   2],\n        [999,   4,   5],\n        [  6,   7,   8]]),\n array([[999,   4,   5],\n        [  6,   7,   8]]),\n array([[999,   4,   5],\n        [  6,   7,   8]]))"
     },
     "execution_count": 10,
     "metadata": {},
     "output_type": "execute_result"
    }
   ],
   "source": [
    "b, b[1:], b[1:, :]"
   ],
   "metadata": {
    "collapsed": false,
    "ExecuteTime": {
     "end_time": "2023-10-31T07:20:55.431668Z",
     "start_time": "2023-10-31T07:20:55.344157Z"
    }
   },
   "id": "93215a2d2532ddf9"
  },
  {
   "cell_type": "code",
   "execution_count": 12,
   "outputs": [
    {
     "data": {
      "text/plain": "True"
     },
     "execution_count": 12,
     "metadata": {},
     "output_type": "execute_result"
    }
   ],
   "source": [
    "np.array_equal(b[1:], b[1:, :])"
   ],
   "metadata": {
    "collapsed": false,
    "ExecuteTime": {
     "end_time": "2023-10-31T07:21:38.952555Z",
     "start_time": "2023-10-31T07:21:38.903796Z"
    }
   },
   "id": "841055fa1e3a3726"
  },
  {
   "cell_type": "code",
   "execution_count": 14,
   "outputs": [],
   "source": [
    "r = R.from_quat([1, 0, 0, 0])"
   ],
   "metadata": {
    "collapsed": false,
    "ExecuteTime": {
     "end_time": "2023-10-31T07:30:02.367953Z",
     "start_time": "2023-10-31T07:30:02.329401Z"
    }
   },
   "id": "7e5321ac1c340e66"
  },
  {
   "cell_type": "code",
   "execution_count": 20,
   "outputs": [
    {
     "data": {
      "text/plain": "<scipy.spatial.transform._rotation.Rotation at 0x7fc53b462030>"
     },
     "execution_count": 20,
     "metadata": {},
     "output_type": "execute_result"
    }
   ],
   "source": [
    "r"
   ],
   "metadata": {
    "collapsed": false,
    "ExecuteTime": {
     "end_time": "2023-10-31T07:41:59.953402Z",
     "start_time": "2023-10-31T07:41:59.916817Z"
    }
   },
   "id": "e9cb7e829bfe159b"
  },
  {
   "cell_type": "code",
   "execution_count": 19,
   "outputs": [
    {
     "data": {
      "text/plain": "array([1., 0., 0., 0.])"
     },
     "execution_count": 19,
     "metadata": {},
     "output_type": "execute_result"
    }
   ],
   "source": [
    "r.as_quat()"
   ],
   "metadata": {
    "collapsed": false,
    "ExecuteTime": {
     "end_time": "2023-10-31T07:30:26.368567Z",
     "start_time": "2023-10-31T07:30:26.344072Z"
    }
   },
   "id": "e1935734cf648403"
  },
  {
   "cell_type": "code",
   "execution_count": null,
   "outputs": [],
   "source": [
    "def pose_joint_orientations(joint_parents: List[int],\n",
    "                            pose: np.ndarray) -> List[R]:\n",
    "    rotations = pose.reshape(-1, 3)[1:]\n",
    "    orientations = [R.from_euler(\"XYZ\", rotations[0], degrees=True)]\n",
    "    \n",
    "    for i in range(1, len(joint_parents)):\n",
    "        orientations.append(orientations[joint_parents[i]] * R.from_euler(\"XYZ\", rotations[i], degrees=True))\n",
    "    \n",
    "    return orientations"
   ],
   "metadata": {
    "collapsed": false
   },
   "id": "ac1f600bbf9a92ee"
  },
  {
   "cell_type": "code",
   "execution_count": null,
   "outputs": [],
   "source": [
    "def pose_joint_positions(joint_parents: List[int], \n",
    "                         joint_offsets: np.ndarray, \n",
    "                         joint_orientations: List[R]) -> List[np.ndarray]:\n",
    "    positions = [joint_offsets[0]]\n",
    "    \n",
    "    for i in range(1, len(joint_parents)):\n",
    "        positions[joint_parents[i]] + joint_orientations[i].apply(joint_offsets[i])\n",
    "    \n",
    "    \n",
    "    return positions"
   ],
   "metadata": {
    "collapsed": false
   },
   "id": "5d7704b95f530216"
  },
  {
   "cell_type": "code",
   "execution_count": null,
   "outputs": [],
   "source": [
    "def part2_forward_kinematics(joint_names, joint_parents, joint_offsets, motion_data, frame_id):\n",
    "    \"\"\"请填写以下内容\n",
    "    输入: part1 获得的关节名字，父节点列表，偏移量列表\n",
    "        motion_data: np.ndarray，形状为(N,X)的numpy数组，其中N为帧数，X为Channel数\n",
    "        frame_id: int，需要返回的帧的索引\n",
    "    输出:\n",
    "        joint_positions: np.ndarray，形状为(M, 3)的numpy数组，包含着所有关节的全局位置\n",
    "        joint_orientations: np.ndarray，形状为(M, 4)的numpy数组，包含着所有关节的全局旋转(四元数)\n",
    "    Tips:\n",
    "        1. joint_orientations的四元数顺序为(x, y, z, w)\n",
    "        2. from_euler时注意使用大写的XYZ\n",
    "    \"\"\"\n",
    "    joint_orientations = pose_joint_orientations(joint_parents, motion_data[frame_id])\n",
    "    return (np.stack(pose_joint_positions(joint_parents, joint_offsets, joint_orientations), axis=0, dtype=np.float64), \n",
    "            np.stack([o.as_quat() for o in joint_orientations], axis=0, dtype=np.float64))"
   ],
   "metadata": {
    "collapsed": false
   },
   "id": "7cac0ab02e174ce4"
  },
  {
   "cell_type": "code",
   "execution_count": 4,
   "outputs": [
    {
     "ename": "SyntaxError",
     "evalue": "can't use starred expression here (313576704.py, line 2)",
     "output_type": "error",
     "traceback": [
      "\u001B[0;36m  Cell \u001B[0;32mIn[4], line 2\u001B[0;36m\u001B[0m\n\u001B[0;31m    *(x[0][..., [3, 0, 1, 2]].tolist())\u001B[0m\n\u001B[0m    ^\u001B[0m\n\u001B[0;31mSyntaxError\u001B[0m\u001B[0;31m:\u001B[0m can't use starred expression here\n"
     ]
    }
   ],
   "source": [
    "x = np.arange(16).reshape(4,4)\n",
    "*(x[0][..., [3, 0, 1, 2]].tolist())"
   ],
   "metadata": {
    "collapsed": false,
    "ExecuteTime": {
     "end_time": "2023-10-31T21:37:33.050315Z",
     "start_time": "2023-10-31T21:37:32.990274Z"
    }
   },
   "id": "dfdfb088aa4ddd36"
  },
  {
   "cell_type": "code",
   "execution_count": 9,
   "outputs": [
    {
     "name": "stdout",
     "output_type": "stream",
     "text": [
      "3 0 1 2\n"
     ]
    }
   ],
   "source": [
    "print(*x[0][..., [3, 0, 1, 2]].tolist())"
   ],
   "metadata": {
    "collapsed": false,
    "ExecuteTime": {
     "end_time": "2023-10-31T21:38:33.690124Z",
     "start_time": "2023-10-31T21:38:33.618394Z"
    }
   },
   "id": "70acfdf201393916"
  },
  {
   "cell_type": "code",
   "execution_count": 10,
   "outputs": [
    {
     "ename": "SyntaxError",
     "evalue": "can't use starred expression here (1077868702.py, line 1)",
     "output_type": "error",
     "traceback": [
      "\u001B[0;36m  Cell \u001B[0;32mIn[10], line 1\u001B[0;36m\u001B[0m\n\u001B[0;31m    *[3, 0, 1, 2]\u001B[0m\n\u001B[0m    ^\u001B[0m\n\u001B[0;31mSyntaxError\u001B[0m\u001B[0;31m:\u001B[0m can't use starred expression here\n"
     ]
    }
   ],
   "source": [
    "*[3, 0, 1, 2]"
   ],
   "metadata": {
    "collapsed": false,
    "ExecuteTime": {
     "end_time": "2023-10-31T21:38:42.282464Z",
     "start_time": "2023-10-31T21:38:42.253604Z"
    }
   },
   "id": "59df5ae5daf26c87"
  },
  {
   "cell_type": "code",
   "execution_count": 16,
   "outputs": [
    {
     "data": {
      "text/plain": "array([0.09666573, 0.80309773, 0.30051669])"
     },
     "execution_count": 16,
     "metadata": {},
     "output_type": "execute_result"
    }
   ],
   "source": [
    "np.array([-0.001735, 0.855388, 0.315499]) + R.from_quat([0.017026, 0.06643844, -0.00578745, 0.99762847]).apply(np.array([0.100000, -0.051395, 0.000000]))"
   ],
   "metadata": {
    "collapsed": false,
    "ExecuteTime": {
     "end_time": "2023-10-31T23:26:00.409680Z",
     "start_time": "2023-10-31T23:26:00.316061Z"
    }
   },
   "id": "27a2d39ad30e806e"
  },
  {
   "cell_type": "code",
   "execution_count": 17,
   "outputs": [
    {
     "data": {
      "text/plain": "array([0.11095962, 0.7908955 , 0.3584027 ])"
     },
     "execution_count": 17,
     "metadata": {},
     "output_type": "execute_result"
    }
   ],
   "source": [
    "np.array([0.09666573, 0.80309773, 0.30051669]) + R.from_quat([0.11351008, 0.03868307, -0.02932178, 0.9923504]).apply(np.array([0.010000, 0.002000, 0.060000]))"
   ],
   "metadata": {
    "collapsed": false,
    "ExecuteTime": {
     "end_time": "2023-10-31T23:27:15.065798Z",
     "start_time": "2023-10-31T23:27:15.010188Z"
    }
   },
   "id": "930a697fa9e9e291"
  },
  {
   "cell_type": "code",
   "execution_count": null,
   "outputs": [],
   "source": [
    "np.array([-0.001735, 0.855388, 0.315499]) + R.from_quat([0.11351008, 0.03868307, -0.02932178, 0.9923504]).apply(np.array([0.010000, 0.002000, 0.060000]))"
   ],
   "metadata": {
    "collapsed": false
   },
   "id": "23325533ae7ab2a9"
  },
  {
   "cell_type": "code",
   "execution_count": null,
   "outputs": [],
   "source": [
    "[[0.000000, 0.000000, 0.000000],\n",
    "[0.100000, -0.051395, 0.000000],\n",
    "[0.010000, 0.002000, 0.060000],\n",
    "[-0.100000, -0.051395, 0.000000],\n",
    "[0.000000, -0.410000, 0.000000],\n",
    "[-0.010000, 0.002000, 0.060000]] # offsets"
   ],
   "metadata": {
    "collapsed": false
   },
   "id": "1880d864c664702a"
  },
  {
   "cell_type": "code",
   "execution_count": null,
   "outputs": [],
   "source": [
    "[\"RootJoint\",\n",
    "\"lHip\", \"lHip_end\",\n",
    "\"rHip\", \"rKnee\", \"rKnee_end\"] # names"
   ],
   "metadata": {
    "collapsed": false
   },
   "id": "d84a3295ab4dcb03"
  },
  {
   "cell_type": "code",
   "execution_count": null,
   "outputs": [],
   "source": [
    "[[0.017026, 0.06643844, -0.00578745, 0.99762847],\n",
    "[0.11351008, 0.03868307, -0.02932178, 0.9923504],\n",
    "[1., 0., 0., 0.],\n",
    "[0.13208152, 0.0602358, -0.05127781, 0.98807728],\n",
    "[-0.01987982, 0.04116234, 0.03973097, 0.99816427],\n",
    "[1., 0., 0., 0.]] # orientations"
   ],
   "metadata": {
    "collapsed": false
   },
   "id": "e770282afb5252fb"
  },
  {
   "cell_type": "code",
   "execution_count": null,
   "outputs": [],
   "source": [
    "[[-0.001735, 0.855388, 0.315499],\n",
    "[0.09666573, 0.80309773, 0.30051669],\n",
    "[0.11095962, 0.7908955 , 0.3584027],\n",
    "[-0.10155524,  0.80495475,  0.32706845],\n",
    "[-0.14962567,  0.4114162 ,  0.2225857],\n",
    "[-0.15488649,  0.41520896,  0.28309966]]"
   ],
   "metadata": {
    "collapsed": false
   },
   "id": "9ead424820db1063"
  },
  {
   "cell_type": "code",
   "execution_count": 18,
   "outputs": [
    {
     "data": {
      "text/plain": "array([-0.10155524,  0.80495475,  0.32706845])"
     },
     "execution_count": 18,
     "metadata": {},
     "output_type": "execute_result"
    }
   ],
   "source": [
    "np.array([-0.001735, 0.855388, 0.315499]) + R.from_quat([0.017026, 0.06643844, -0.00578745, 0.99762847]).apply(np.array([-0.100000, -0.051395, 0.000000]))"
   ],
   "metadata": {
    "collapsed": false,
    "ExecuteTime": {
     "end_time": "2023-11-01T00:04:22.207451Z",
     "start_time": "2023-11-01T00:04:22.093558Z"
    }
   },
   "id": "9f5cf4ccfc6ceb42"
  },
  {
   "cell_type": "code",
   "execution_count": 19,
   "outputs": [
    {
     "data": {
      "text/plain": "array([-0.14962567,  0.4114162 ,  0.2225857 ])"
     },
     "execution_count": 19,
     "metadata": {},
     "output_type": "execute_result"
    }
   ],
   "source": [
    "np.array([-0.10155524,  0.80495475,  0.32706845]) + R.from_quat([0.13208152, 0.0602358, -0.05127781, 0.98807728]).apply(np.array([0.000000, -0.410000, 0.000000]))"
   ],
   "metadata": {
    "collapsed": false,
    "ExecuteTime": {
     "end_time": "2023-11-01T00:06:23.803956Z",
     "start_time": "2023-11-01T00:06:23.763533Z"
    }
   },
   "id": "b8fa1719518aab97"
  },
  {
   "cell_type": "code",
   "execution_count": 20,
   "outputs": [
    {
     "data": {
      "text/plain": "array([-0.15488649,  0.41520896,  0.28309966])"
     },
     "execution_count": 20,
     "metadata": {},
     "output_type": "execute_result"
    }
   ],
   "source": [
    "np.array([-0.14962567,  0.4114162 ,  0.2225857]) + R.from_quat([-0.01987982, 0.04116234, 0.03973097, 0.99816427]).apply(np.array([-0.010000, 0.002000, 0.060000]))"
   ],
   "metadata": {
    "collapsed": false,
    "ExecuteTime": {
     "end_time": "2023-11-01T00:07:30.615359Z",
     "start_time": "2023-11-01T00:07:30.568856Z"
    }
   },
   "id": "7acae0d4ca001bb9"
  },
  {
   "cell_type": "code",
   "execution_count": null,
   "outputs": [],
   "source": [],
   "metadata": {
    "collapsed": false
   },
   "id": "e3404211901cc4a8"
  }
 ],
 "metadata": {
  "kernelspec": {
   "display_name": "Python 3",
   "language": "python",
   "name": "python3"
  },
  "language_info": {
   "codemirror_mode": {
    "name": "ipython",
    "version": 2
   },
   "file_extension": ".py",
   "mimetype": "text/x-python",
   "name": "python",
   "nbconvert_exporter": "python",
   "pygments_lexer": "ipython2",
   "version": "2.7.6"
  }
 },
 "nbformat": 4,
 "nbformat_minor": 5
}
