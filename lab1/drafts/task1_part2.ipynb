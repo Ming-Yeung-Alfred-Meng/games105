{
 "cells": [
  {
   "cell_type": "code",
   "execution_count": 13,
   "outputs": [],
   "source": [
    "import numpy as np\n",
    "from lab1.Lab1_FK_answers import *\n",
    "from scipy.spatial.transform import Rotation as R"
   ],
   "metadata": {
    "collapsed": false,
    "ExecuteTime": {
     "end_time": "2023-10-31T07:29:09.039166Z",
     "start_time": "2023-10-31T07:29:08.977005Z"
    }
   },
   "id": "c3765d5e26d10c22"
  },
  {
   "cell_type": "code",
   "execution_count": null,
   "outputs": [],
   "source": [
    "bvh = open(\"../data/walk60.bvh\", 'r')"
   ],
   "metadata": {
    "collapsed": false
   },
   "id": "8c856a4133e17977"
  },
  {
   "cell_type": "code",
   "execution_count": null,
   "outputs": [],
   "source": [
    "line = bvh.readline()\n",
    "while line != \"MOTION\\n\":\n",
    "    line = bvh.readline()"
   ],
   "metadata": {
    "collapsed": false
   },
   "id": "b42d3a605da1a02d"
  },
  {
   "cell_type": "code",
   "execution_count": null,
   "outputs": [],
   "source": [
    "line = bvh.readline()"
   ],
   "metadata": {
    "collapsed": false
   },
   "id": "af15488b25fdefed"
  },
  {
   "cell_type": "code",
   "execution_count": null,
   "outputs": [],
   "source": [
    "line"
   ],
   "metadata": {
    "collapsed": false
   },
   "id": "add5f9b73e4ba47b"
  },
  {
   "cell_type": "code",
   "execution_count": null,
   "outputs": [],
   "source": [
    "line.split()"
   ],
   "metadata": {
    "collapsed": false
   },
   "id": "d4dd256ea1c0583d"
  },
  {
   "cell_type": "code",
   "execution_count": null,
   "outputs": [],
   "source": [
    "len(line.split())"
   ],
   "metadata": {
    "collapsed": false
   },
   "id": "53f6a9b1551fe2a2"
  },
  {
   "cell_type": "code",
   "execution_count": null,
   "outputs": [],
   "source": [
    "306 - 125 + 2"
   ],
   "metadata": {
    "collapsed": false
   },
   "id": "e1e4d5a04ed0480"
  },
  {
   "cell_type": "code",
   "execution_count": null,
   "outputs": [],
   "source": [
    "bvh_path = \"../data/walk60.bvh\""
   ],
   "metadata": {
    "collapsed": false
   },
   "id": "9829afffe657bd5e"
  },
  {
   "cell_type": "code",
   "execution_count": null,
   "outputs": [],
   "source": [
    "load_motion_data(bvh_path)[0, :]"
   ],
   "metadata": {
    "collapsed": false
   },
   "id": "f6277d1e867ac791"
  },
  {
   "cell_type": "code",
   "execution_count": 3,
   "outputs": [],
   "source": [
    "a = np.arange(9)\n",
    "b = a.reshape(-1, 3)"
   ],
   "metadata": {
    "collapsed": false,
    "ExecuteTime": {
     "end_time": "2023-10-31T07:19:57.129700Z",
     "start_time": "2023-10-31T07:19:57.106107Z"
    }
   },
   "id": "1a3f02ee282a3dc3"
  },
  {
   "cell_type": "code",
   "execution_count": 6,
   "outputs": [
    {
     "data": {
      "text/plain": "array([[0, 1, 2],\n       [3, 4, 5],\n       [6, 7, 8]])"
     },
     "execution_count": 6,
     "metadata": {},
     "output_type": "execute_result"
    }
   ],
   "source": [
    "b"
   ],
   "metadata": {
    "collapsed": false,
    "ExecuteTime": {
     "end_time": "2023-10-31T07:20:11.502435Z",
     "start_time": "2023-10-31T07:20:11.451412Z"
    }
   },
   "id": "c8f421da08dbc98c"
  },
  {
   "cell_type": "code",
   "execution_count": 8,
   "outputs": [],
   "source": [
    "b[1:][0, 0] = 999"
   ],
   "metadata": {
    "collapsed": false,
    "ExecuteTime": {
     "end_time": "2023-10-31T07:20:29.005804Z",
     "start_time": "2023-10-31T07:20:28.901339Z"
    }
   },
   "id": "e4fc9b75df3ae9c"
  },
  {
   "cell_type": "code",
   "execution_count": 9,
   "outputs": [
    {
     "data": {
      "text/plain": "array([  0,   1,   2, 999,   4,   5,   6,   7,   8])"
     },
     "execution_count": 9,
     "metadata": {},
     "output_type": "execute_result"
    }
   ],
   "source": [
    "a"
   ],
   "metadata": {
    "collapsed": false,
    "ExecuteTime": {
     "end_time": "2023-10-31T07:20:32.475042Z",
     "start_time": "2023-10-31T07:20:32.384628Z"
    }
   },
   "id": "fc70e4bcb1686022"
  },
  {
   "cell_type": "code",
   "execution_count": 10,
   "outputs": [
    {
     "data": {
      "text/plain": "(array([[  0,   1,   2],\n        [999,   4,   5],\n        [  6,   7,   8]]),\n array([[999,   4,   5],\n        [  6,   7,   8]]),\n array([[999,   4,   5],\n        [  6,   7,   8]]))"
     },
     "execution_count": 10,
     "metadata": {},
     "output_type": "execute_result"
    }
   ],
   "source": [
    "b, b[1:], b[1:, :]"
   ],
   "metadata": {
    "collapsed": false,
    "ExecuteTime": {
     "end_time": "2023-10-31T07:20:55.431668Z",
     "start_time": "2023-10-31T07:20:55.344157Z"
    }
   },
   "id": "93215a2d2532ddf9"
  },
  {
   "cell_type": "code",
   "execution_count": 12,
   "outputs": [
    {
     "data": {
      "text/plain": "True"
     },
     "execution_count": 12,
     "metadata": {},
     "output_type": "execute_result"
    }
   ],
   "source": [
    "np.array_equal(b[1:], b[1:, :])"
   ],
   "metadata": {
    "collapsed": false,
    "ExecuteTime": {
     "end_time": "2023-10-31T07:21:38.952555Z",
     "start_time": "2023-10-31T07:21:38.903796Z"
    }
   },
   "id": "841055fa1e3a3726"
  },
  {
   "cell_type": "code",
   "execution_count": 14,
   "outputs": [],
   "source": [
    "r = R.from_quat([1, 0, 0, 0])"
   ],
   "metadata": {
    "collapsed": false,
    "ExecuteTime": {
     "end_time": "2023-10-31T07:30:02.367953Z",
     "start_time": "2023-10-31T07:30:02.329401Z"
    }
   },
   "id": "7e5321ac1c340e66"
  },
  {
   "cell_type": "code",
   "execution_count": 20,
   "outputs": [
    {
     "data": {
      "text/plain": "<scipy.spatial.transform._rotation.Rotation at 0x7fc53b462030>"
     },
     "execution_count": 20,
     "metadata": {},
     "output_type": "execute_result"
    }
   ],
   "source": [
    "r"
   ],
   "metadata": {
    "collapsed": false,
    "ExecuteTime": {
     "end_time": "2023-10-31T07:41:59.953402Z",
     "start_time": "2023-10-31T07:41:59.916817Z"
    }
   },
   "id": "e9cb7e829bfe159b"
  },
  {
   "cell_type": "code",
   "execution_count": 19,
   "outputs": [
    {
     "data": {
      "text/plain": "array([1., 0., 0., 0.])"
     },
     "execution_count": 19,
     "metadata": {},
     "output_type": "execute_result"
    }
   ],
   "source": [
    "r.as_quat()"
   ],
   "metadata": {
    "collapsed": false,
    "ExecuteTime": {
     "end_time": "2023-10-31T07:30:26.368567Z",
     "start_time": "2023-10-31T07:30:26.344072Z"
    }
   },
   "id": "e1935734cf648403"
  },
  {
   "cell_type": "code",
   "execution_count": null,
   "outputs": [],
   "source": [
    "def pose_joint_orientations(joint_parents: List[int],\n",
    "                            pose: np.ndarray) -> List[R]:\n",
    "    rotations = pose.reshape(-1, 3)[1:]\n",
    "    orientations = [R.from_euler(\"XYZ\", rotations[0], degrees=True)]\n",
    "    \n",
    "    for i in range(1, len(joint_parents)):\n",
    "        orientations.append(orientations[joint_parents[i]] * R.from_euler(\"XYZ\", rotations[i], degrees=True))\n",
    "    \n",
    "    return orientations"
   ],
   "metadata": {
    "collapsed": false
   },
   "id": "ac1f600bbf9a92ee"
  },
  {
   "cell_type": "code",
   "execution_count": null,
   "outputs": [],
   "source": [
    "def pose_joint_positions(joint_parents: List[int], \n",
    "                         joint_offsets: np.ndarray, \n",
    "                         joint_orientations: List[R]) -> List[np.ndarray]:\n",
    "    positions = [joint_offsets[0]]\n",
    "    \n",
    "    for i in range(1, len(joint_parents)):\n",
    "        positions[joint_parents[i]] + joint_orientations[i].apply(joint_offsets[i])\n",
    "    \n",
    "    \n",
    "    return positions"
   ],
   "metadata": {
    "collapsed": false
   },
   "id": "5d7704b95f530216"
  },
  {
   "cell_type": "code",
   "execution_count": null,
   "outputs": [],
   "source": [
    "def part2_forward_kinematics(joint_names, joint_parents, joint_offsets, motion_data, frame_id):\n",
    "    \"\"\"请填写以下内容\n",
    "    输入: part1 获得的关节名字，父节点列表，偏移量列表\n",
    "        motion_data: np.ndarray，形状为(N,X)的numpy数组，其中N为帧数，X为Channel数\n",
    "        frame_id: int，需要返回的帧的索引\n",
    "    输出:\n",
    "        joint_positions: np.ndarray，形状为(M, 3)的numpy数组，包含着所有关节的全局位置\n",
    "        joint_orientations: np.ndarray，形状为(M, 4)的numpy数组，包含着所有关节的全局旋转(四元数)\n",
    "    Tips:\n",
    "        1. joint_orientations的四元数顺序为(x, y, z, w)\n",
    "        2. from_euler时注意使用大写的XYZ\n",
    "    \"\"\"\n",
    "    joint_orientations = pose_joint_orientations(joint_parents, motion_data[frame_id])\n",
    "    return (np.stack(pose_joint_positions(joint_parents, joint_offsets, joint_orientations), axis=0, dtype=np.float64), \n",
    "            np.stack([o.as_quat() for o in joint_orientations], axis=0, dtype=np.float64))"
   ],
   "metadata": {
    "collapsed": false
   },
   "id": "7cac0ab02e174ce4"
  }
 ],
 "metadata": {
  "kernelspec": {
   "display_name": "Python 3",
   "language": "python",
   "name": "python3"
  },
  "language_info": {
   "codemirror_mode": {
    "name": "ipython",
    "version": 2
   },
   "file_extension": ".py",
   "mimetype": "text/x-python",
   "name": "python",
   "nbconvert_exporter": "python",
   "pygments_lexer": "ipython2",
   "version": "2.7.6"
  }
 },
 "nbformat": 4,
 "nbformat_minor": 5
}
