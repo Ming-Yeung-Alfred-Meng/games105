{
 "cells": [
  {
   "cell_type": "code",
   "execution_count": 20,
   "outputs": [],
   "source": [
    "import numpy as np\n",
    "from lab1.Lab1_FK_answers import *"
   ],
   "metadata": {
    "collapsed": false,
    "ExecuteTime": {
     "end_time": "2023-10-31T03:41:13.148794Z",
     "start_time": "2023-10-31T03:41:11.381190Z"
    }
   },
   "id": "c3765d5e26d10c22"
  },
  {
   "cell_type": "code",
   "execution_count": 4,
   "outputs": [],
   "source": [
    "bvh = open(\"../data/walk60.bvh\", 'r')"
   ],
   "metadata": {
    "collapsed": false,
    "ExecuteTime": {
     "end_time": "2023-10-31T03:34:59.844803Z",
     "start_time": "2023-10-31T03:34:59.715071Z"
    }
   },
   "id": "8c856a4133e17977"
  },
  {
   "cell_type": "code",
   "execution_count": 5,
   "outputs": [],
   "source": [
    "line = bvh.readline()\n",
    "while line != \"MOTION\\n\":\n",
    "    line = bvh.readline()"
   ],
   "metadata": {
    "collapsed": false,
    "ExecuteTime": {
     "end_time": "2023-10-31T03:34:59.893396Z",
     "start_time": "2023-10-31T03:34:59.765758Z"
    }
   },
   "id": "b42d3a605da1a02d"
  },
  {
   "cell_type": "code",
   "execution_count": 11,
   "outputs": [],
   "source": [
    "line = bvh.readline()"
   ],
   "metadata": {
    "collapsed": false,
    "ExecuteTime": {
     "end_time": "2023-10-31T03:35:21.733450Z",
     "start_time": "2023-10-31T03:35:21.704799Z"
    }
   },
   "id": "af15488b25fdefed"
  },
  {
   "cell_type": "code",
   "execution_count": 12,
   "outputs": [
    {
     "data": {
      "text/plain": "' -0.001735   0.855388   0.315499   2.008551   7.606260  -0.798294  11.216058  -3.286777  -1.592436  13.521250  -1.153514  -4.213484 -17.754157  -3.216621   9.232892  -7.948705   0.211932  -1.528529   2.220789  -0.981058  -1.133630   2.071938  -6.311876   2.083844   2.020309  -0.533885 -19.342332  -5.129554 -37.575293 -50.190804   0.198025 -24.741038   4.442069   0.442380   2.547494   4.858004   1.951773  -5.809334  21.100535  23.710456  30.003467  53.240376   0.414981  10.414544   1.952633   3.576914  -9.482057   6.918939   1.457480  -0.035296   0.111891 -27.722826  -1.655032   2.430426  -2.964232  -5.507982   1.444119   2.239212  -3.180259  -0.892285  -0.008100  -0.007000   0.024400\\n'"
     },
     "execution_count": 12,
     "metadata": {},
     "output_type": "execute_result"
    }
   ],
   "source": [
    "line"
   ],
   "metadata": {
    "collapsed": false,
    "ExecuteTime": {
     "end_time": "2023-10-31T03:35:22.076922Z",
     "start_time": "2023-10-31T03:35:22.041151Z"
    }
   },
   "id": "add5f9b73e4ba47b"
  },
  {
   "cell_type": "code",
   "execution_count": 14,
   "outputs": [
    {
     "data": {
      "text/plain": "['-0.001735',\n '0.855388',\n '0.315499',\n '2.008551',\n '7.606260',\n '-0.798294',\n '11.216058',\n '-3.286777',\n '-1.592436',\n '13.521250',\n '-1.153514',\n '-4.213484',\n '-17.754157',\n '-3.216621',\n '9.232892',\n '-7.948705',\n '0.211932',\n '-1.528529',\n '2.220789',\n '-0.981058',\n '-1.133630',\n '2.071938',\n '-6.311876',\n '2.083844',\n '2.020309',\n '-0.533885',\n '-19.342332',\n '-5.129554',\n '-37.575293',\n '-50.190804',\n '0.198025',\n '-24.741038',\n '4.442069',\n '0.442380',\n '2.547494',\n '4.858004',\n '1.951773',\n '-5.809334',\n '21.100535',\n '23.710456',\n '30.003467',\n '53.240376',\n '0.414981',\n '10.414544',\n '1.952633',\n '3.576914',\n '-9.482057',\n '6.918939',\n '1.457480',\n '-0.035296',\n '0.111891',\n '-27.722826',\n '-1.655032',\n '2.430426',\n '-2.964232',\n '-5.507982',\n '1.444119',\n '2.239212',\n '-3.180259',\n '-0.892285',\n '-0.008100',\n '-0.007000',\n '0.024400']"
     },
     "execution_count": 14,
     "metadata": {},
     "output_type": "execute_result"
    }
   ],
   "source": [
    "line.split()"
   ],
   "metadata": {
    "collapsed": false,
    "ExecuteTime": {
     "end_time": "2023-10-31T03:35:40.075593Z",
     "start_time": "2023-10-31T03:35:40.048952Z"
    }
   },
   "id": "d4dd256ea1c0583d"
  },
  {
   "cell_type": "code",
   "execution_count": 15,
   "outputs": [
    {
     "data": {
      "text/plain": "63"
     },
     "execution_count": 15,
     "metadata": {},
     "output_type": "execute_result"
    }
   ],
   "source": [
    "len(line.split())"
   ],
   "metadata": {
    "collapsed": false,
    "ExecuteTime": {
     "end_time": "2023-10-31T03:35:40.459844Z",
     "start_time": "2023-10-31T03:35:40.373298Z"
    }
   },
   "id": "53f6a9b1551fe2a2"
  },
  {
   "cell_type": "code",
   "execution_count": 17,
   "outputs": [
    {
     "data": {
      "text/plain": "183"
     },
     "execution_count": 17,
     "metadata": {},
     "output_type": "execute_result"
    }
   ],
   "source": [
    "306 - 125 + 2"
   ],
   "metadata": {
    "collapsed": false,
    "ExecuteTime": {
     "end_time": "2023-10-31T03:37:12.238321Z",
     "start_time": "2023-10-31T03:37:12.160261Z"
    }
   },
   "id": "e1e4d5a04ed0480"
  },
  {
   "cell_type": "code",
   "execution_count": 21,
   "outputs": [],
   "source": [
    "bvh_path = \"../data/walk60.bvh\""
   ],
   "metadata": {
    "collapsed": false,
    "ExecuteTime": {
     "end_time": "2023-10-31T03:41:15.771789Z",
     "start_time": "2023-10-31T03:41:15.693719Z"
    }
   },
   "id": "9829afffe657bd5e"
  },
  {
   "cell_type": "code",
   "execution_count": 24,
   "outputs": [
    {
     "data": {
      "text/plain": "array([-1.7350000e-03,  8.5538800e-01,  3.1549900e-01,  2.0085510e+00,\n        7.6062600e+00, -7.9829400e-01,  1.1216058e+01, -3.2867770e+00,\n       -1.5924360e+00,  1.3521250e+01, -1.1535140e+00, -4.2134840e+00,\n       -1.7754157e+01, -3.2166210e+00,  9.2328920e+00, -7.9487050e+00,\n        2.1193200e-01, -1.5285290e+00,  2.2207890e+00, -9.8105800e-01,\n       -1.1336300e+00,  2.0719380e+00, -6.3118760e+00,  2.0838440e+00,\n        2.0203090e+00, -5.3388500e-01, -1.9342332e+01, -5.1295540e+00,\n       -3.7575293e+01, -5.0190804e+01,  1.9802500e-01, -2.4741038e+01,\n        4.4420690e+00,  4.4238000e-01,  2.5474940e+00,  4.8580040e+00,\n        1.9517730e+00, -5.8093340e+00,  2.1100535e+01,  2.3710456e+01,\n        3.0003467e+01,  5.3240376e+01,  4.1498100e-01,  1.0414544e+01,\n        1.9526330e+00,  3.5769140e+00, -9.4820570e+00,  6.9189390e+00,\n        1.4574800e+00, -3.5296000e-02,  1.1189100e-01, -2.7722826e+01,\n       -1.6550320e+00,  2.4304260e+00, -2.9642320e+00, -5.5079820e+00,\n        1.4441190e+00,  2.2392120e+00, -3.1802590e+00, -8.9228500e-01,\n       -8.1000000e-03, -7.0000000e-03,  2.4400000e-02])"
     },
     "execution_count": 24,
     "metadata": {},
     "output_type": "execute_result"
    }
   ],
   "source": [
    "load_motion_data(bvh_path)[0, :]"
   ],
   "metadata": {
    "collapsed": false,
    "ExecuteTime": {
     "end_time": "2023-10-31T03:41:47.640151Z",
     "start_time": "2023-10-31T03:41:47.580842Z"
    }
   },
   "id": "f6277d1e867ac791"
  },
  {
   "cell_type": "code",
   "execution_count": null,
   "outputs": [],
   "source": [
    "def orientations(joint_parents: List[int],\n",
    "                 joint_offsets: np.ndarray,\n",
    "                 motion_data_one_frame: np.ndarray) -> np.ndarray:\n",
    "    joint_orientations = []\n",
    "    \n",
    "    \n",
    "    return np.array(joint_orientations, dtype=np.float64)\n",
    "    "
   ],
   "metadata": {
    "collapsed": false
   },
   "id": "ac1f600bbf9a92ee"
  },
  {
   "cell_type": "code",
   "execution_count": null,
   "outputs": [],
   "source": [
    "def part2_forward_kinematics(joint_names, joint_parents, joint_offsets, motion_data, frame_id):\n",
    "    \"\"\"请填写以下内容\n",
    "    输入: part1 获得的关节名字，父节点列表，偏移量列表\n",
    "        motion_data: np.ndarray，形状为(N,X)的numpy数组，其中N为帧数，X为Channel数\n",
    "        frame_id: int，需要返回的帧的索引\n",
    "    输出:\n",
    "        joint_positions: np.ndarray，形状为(M, 3)的numpy数组，包含着所有关节的全局位置\n",
    "        joint_orientations: np.ndarray，形状为(M, 4)的numpy数组，包含着所有关节的全局旋转(四元数)\n",
    "    Tips:\n",
    "        1. joint_orientations的四元数顺序为(x, y, z, w)\n",
    "        2. from_euler时注意使用大写的XYZ\n",
    "    \"\"\"\n",
    "    joint_orientations = orientations(joint_parents, joint_offsets, motion_data[frame_id])\n",
    "\n",
    "    joint_positions = None\n",
    "    return joint_positions, joint_orientations"
   ],
   "metadata": {
    "collapsed": false
   },
   "id": "7cac0ab02e174ce4"
  }
 ],
 "metadata": {
  "kernelspec": {
   "display_name": "Python 3",
   "language": "python",
   "name": "python3"
  },
  "language_info": {
   "codemirror_mode": {
    "name": "ipython",
    "version": 2
   },
   "file_extension": ".py",
   "mimetype": "text/x-python",
   "name": "python",
   "nbconvert_exporter": "python",
   "pygments_lexer": "ipython2",
   "version": "2.7.6"
  }
 },
 "nbformat": 4,
 "nbformat_minor": 5
}
