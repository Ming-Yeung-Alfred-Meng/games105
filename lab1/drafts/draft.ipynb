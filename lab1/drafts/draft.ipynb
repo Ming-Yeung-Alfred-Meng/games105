{
 "cells": [
  {
   "cell_type": "code",
   "execution_count": 1,
   "id": "initial_id",
   "metadata": {
    "collapsed": true,
    "ExecuteTime": {
     "end_time": "2023-10-31T04:01:34.770113Z",
     "start_time": "2023-10-31T04:01:34.067352Z"
    }
   },
   "outputs": [],
   "source": [
    "import numpy as np\n",
    "from typing import Tuple, List, Optional\n",
    "from scipy.spatial.transform import Rotation as R"
   ]
  },
  {
   "cell_type": "code",
   "execution_count": 2,
   "outputs": [],
   "source": [
    "file_path = \"data/test.bvh\""
   ],
   "metadata": {
    "collapsed": false,
    "ExecuteTime": {
     "end_time": "2023-10-30T23:26:23.398659Z",
     "start_time": "2023-10-30T23:26:23.318483Z"
    }
   },
   "id": "170486f1103786bd"
  },
  {
   "cell_type": "code",
   "execution_count": 3,
   "outputs": [],
   "source": [
    "joint_name = []\n",
    "joint_parent = []\n",
    "joint_offset = np.empty((10, 3))"
   ],
   "metadata": {
    "collapsed": false,
    "ExecuteTime": {
     "end_time": "2023-10-30T23:26:23.399307Z",
     "start_time": "2023-10-30T23:26:23.341868Z"
    }
   },
   "id": "9373887e74e057e2"
  },
  {
   "cell_type": "code",
   "execution_count": 16,
   "outputs": [],
   "source": [
    "f = open(file_path, 'r')"
   ],
   "metadata": {
    "collapsed": false,
    "ExecuteTime": {
     "end_time": "2023-10-30T23:53:03.645023Z",
     "start_time": "2023-10-30T23:53:03.572275Z"
    }
   },
   "id": "724e26f8450b3914"
  },
  {
   "cell_type": "code",
   "execution_count": 18,
   "outputs": [
    {
     "data": {
      "text/plain": "(11, 'ROOT RootJoint\\n', 27)"
     },
     "execution_count": 18,
     "metadata": {},
     "output_type": "execute_result"
    }
   ],
   "source": [
    "f.tell(), f.readline(), f.tell()"
   ],
   "metadata": {
    "collapsed": false,
    "ExecuteTime": {
     "end_time": "2023-10-30T23:53:22.544675Z",
     "start_time": "2023-10-30T23:53:22.517901Z"
    }
   },
   "id": "6379f9b323b7003e"
  },
  {
   "cell_type": "code",
   "execution_count": 23,
   "outputs": [
    {
     "data": {
      "text/plain": "12"
     },
     "execution_count": 23,
     "metadata": {},
     "output_type": "execute_result"
    }
   ],
   "source": [
    "f.seek(12)"
   ],
   "metadata": {
    "collapsed": false,
    "ExecuteTime": {
     "end_time": "2023-10-30T23:55:36.512164Z",
     "start_time": "2023-10-30T23:55:36.457946Z"
    }
   },
   "id": "c6ca300a3a4f44db"
  },
  {
   "cell_type": "code",
   "execution_count": 24,
   "outputs": [
    {
     "data": {
      "text/plain": "'OOT RootJoint\\n'"
     },
     "execution_count": 24,
     "metadata": {},
     "output_type": "execute_result"
    }
   ],
   "source": [
    "f.readline()"
   ],
   "metadata": {
    "collapsed": false,
    "ExecuteTime": {
     "end_time": "2023-10-30T23:55:42.967410Z",
     "start_time": "2023-10-30T23:55:42.887766Z"
    }
   },
   "id": "b0fbf33ae5bbd99e"
  },
  {
   "cell_type": "code",
   "execution_count": 13,
   "outputs": [
    {
     "data": {
      "text/plain": "_io.TextIOWrapper"
     },
     "execution_count": 13,
     "metadata": {},
     "output_type": "execute_result"
    }
   ],
   "source": [
    "type(f)"
   ],
   "metadata": {
    "collapsed": false,
    "ExecuteTime": {
     "end_time": "2023-10-30T23:30:31.289725Z",
     "start_time": "2023-10-30T23:30:31.084533Z"
    }
   },
   "id": "5fd0fdd5f5db62e6"
  },
  {
   "cell_type": "code",
   "execution_count": 16,
   "outputs": [
    {
     "name": "stdout",
     "output_type": "stream",
     "text": [
      "['HIERARCHY\\n', 'ROOT RootJoint\\n', '{\\n', '    OFFSET   0.000000   0.000000   0.000000\\n', '    CHANNELS 6 Xposition Yposition Zposition Xrotation Yrotation Zrotation\\n', '    JOINT lHip\\n', '    {\\n', '        OFFSET   0.100000  -0.051395   0.000000\\n', '        CHANNELS 3 Xrotation Yrotation Zrotation\\n', '        End Site\\n', '        {\\n', '            OFFSET   0.010000   0.002000   0.060000\\n', '        }\\n', '    }\\n', '    JOINT rHip\\n', '    {\\n', '        OFFSET  -0.100000  -0.051395   0.000000\\n', '        CHANNELS 3 Xrotation Yrotation Zrotation\\n', '        JOINT rKnee\\n', '        {\\n', '            OFFSET   0.000000  -0.410000   0.000000\\n', '            CHANNELS 3 Xrotation Yrotation Zrotation\\n', '            End Site\\n', '            {\\n', '                OFFSET  -0.010000   0.002000   0.060000\\n', '            }\\n', '        }\\n', '    }\\n', '}\\n', 'MOTION\\n', 'Frames: 182\\n', 'Frame Time:   0.016667\\n', ' -0.001735   0.855388   0.315499   2.008551   7.606260  -0.798294  11.216058  -3.286777  -1.592436  13.521250  -1.153514  -4.213484 -17.754157  -3.216621   9.232892  -7.948705   0.211932  -1.528529   2.220789  -0.981058  -1.133630   2.071938  -6.311876   2.083844   2.020309  -0.533885 -19.342332  -5.129554 -37.575293 -50.190804   0.198025 -24.741038   4.442069   0.442380   2.547494   4.858004   1.951773  -5.809334  21.100535  23.710456  30.003467  53.240376   0.414981  10.414544   1.952633   3.576914  -9.482057   6.918939   1.457480  -0.035296   0.111891 -27.722826  -1.655032   2.430426  -2.964232  -5.507982   1.444119   2.239212  -3.180259  -0.892285  -0.008100  -0.007000   0.024400\\n', ' -0.003810   0.853981   0.337002   2.017405   7.825929  -1.809751  11.713970  -2.355625   0.062023  15.198954  -1.861308  -4.389417 -17.189762  -3.614663   9.244711  -9.397213   0.262158  -1.565413   2.647300  -1.021514   0.131973   1.458470  -6.632789   1.868957   1.928817  -0.148344 -19.543616  -3.937845 -37.139413 -49.957499   0.204371 -24.672734   4.317351   0.916151   2.440320   4.849158   2.068848  -5.518149  21.184327  23.795785  30.805519  52.865110   0.417817  10.118764   1.952408   3.104611  -9.774695   7.021717   1.448893  -0.004226   0.069402 -27.594885  -2.728812   3.499348  -1.670271  -5.527619   1.835016   6.676684  -3.330738  -4.015991  -0.008600  -0.007000   0.026400\\n', ' -0.005963   0.852898   0.358713   1.996376   8.048270  -2.854969  11.998815  -1.153449   1.807912  17.215182  -2.698277  -4.537542 -16.442284  -4.080736   9.221577 -10.978309   0.302455  -1.538039   3.073604  -1.074488   1.400775   0.884854  -6.935044   1.723074   1.840409   0.246227 -19.783873  -2.649285 -36.723309 -49.692153   0.208841 -24.545390   4.206251   1.311628   2.360119   4.825898   2.182573  -5.216678  21.245688  23.833719  31.603557  52.460242   0.421827   9.814341   1.973567   2.722567 -10.078452   7.038314   1.434818   0.029635   0.015686 -27.623348  -3.597897   4.594641   0.146375  -5.591939   2.178879  10.591059  -3.689165  -6.624098  -0.009100  -0.007100   0.028300\\n']\n"
     ]
    }
   ],
   "source": [
    "with open(file_path, 'r') as f:  \n",
    "    lines = f.readlines()  \n",
    "    print(lines)"
   ],
   "metadata": {
    "collapsed": false,
    "ExecuteTime": {
     "end_time": "2023-10-30T03:46:14.733225Z",
     "start_time": "2023-10-30T03:46:14.695274Z"
    }
   },
   "id": "f70d1c24561bb888"
  },
  {
   "cell_type": "code",
   "execution_count": 29,
   "outputs": [
    {
     "data": {
      "text/plain": "('HIERARCHY\\n', 'HIERARCHY')"
     },
     "execution_count": 29,
     "metadata": {},
     "output_type": "execute_result"
    }
   ],
   "source": [
    "index = 0\n",
    "lines[index], lines[index].strip()"
   ],
   "metadata": {
    "collapsed": false,
    "ExecuteTime": {
     "end_time": "2023-10-30T03:51:32.861758Z",
     "start_time": "2023-10-30T03:51:32.840250Z"
    }
   },
   "id": "98f7df386735fb5c"
  },
  {
   "cell_type": "code",
   "execution_count": 32,
   "outputs": [
    {
     "data": {
      "text/plain": "True"
     },
     "execution_count": 32,
     "metadata": {},
     "output_type": "execute_result"
    }
   ],
   "source": [
    "# startwith\n",
    "# split\n",
    "# strip"
   ],
   "metadata": {
    "collapsed": false,
    "ExecuteTime": {
     "end_time": "2023-10-30T03:52:14.317389Z",
     "start_time": "2023-10-30T03:52:14.297209Z"
    }
   },
   "id": "debd44c4add1a459"
  },
  {
   "cell_type": "code",
   "execution_count": 3,
   "outputs": [
    {
     "ename": "IndexError",
     "evalue": "index 0 is out of bounds for axis 0 with size 0",
     "output_type": "error",
     "traceback": [
      "\u001B[0;31m---------------------------------------------------------------------------\u001B[0m",
      "\u001B[0;31mIndexError\u001B[0m                                Traceback (most recent call last)",
      "Cell \u001B[0;32mIn[3], line 44\u001B[0m\n\u001B[1;32m     42\u001B[0m \u001B[38;5;28;01mfor\u001B[39;00m i \u001B[38;5;129;01min\u001B[39;00m \u001B[38;5;28mrange\u001B[39m(\u001B[38;5;28mlen\u001B[39m(joint_names)):\n\u001B[1;32m     43\u001B[0m     parent_name \u001B[38;5;241m=\u001B[39m joint_names[parent_indices[i]] \u001B[38;5;28;01mif\u001B[39;00m parent_indices[i] \u001B[38;5;241m!=\u001B[39m \u001B[38;5;241m-\u001B[39m\u001B[38;5;241m1\u001B[39m \u001B[38;5;28;01melse\u001B[39;00m \u001B[38;5;124m\"\u001B[39m\u001B[38;5;124mROOT\u001B[39m\u001B[38;5;124m\"\u001B[39m\n\u001B[0;32m---> 44\u001B[0m     \u001B[38;5;28mprint\u001B[39m(\u001B[38;5;124mf\u001B[39m\u001B[38;5;124m\"\u001B[39m\u001B[38;5;124mJoint: \u001B[39m\u001B[38;5;132;01m{\u001B[39;00mjoint_names[i]\u001B[38;5;132;01m}\u001B[39;00m\u001B[38;5;124m, Parent: \u001B[39m\u001B[38;5;132;01m{\u001B[39;00mparent_name\u001B[38;5;132;01m}\u001B[39;00m\u001B[38;5;124m, Offset: \u001B[39m\u001B[38;5;132;01m{\u001B[39;00moffsets[i]\u001B[38;5;132;01m}\u001B[39;00m\u001B[38;5;124m\"\u001B[39m)\n",
      "\u001B[0;31mIndexError\u001B[0m: index 0 is out of bounds for axis 0 with size 0"
     ]
    }
   ],
   "source": [
    "# import numpy as np\n",
    "# \n",
    "# def parse_bvh_file(bvh_file):\n",
    "#     joint_names = []\n",
    "#     parent_indices = []\n",
    "#     offsets = []\n",
    "# \n",
    "#     with open(bvh_file, 'r') as file:\n",
    "#         lines = file.readlines()\n",
    "# \n",
    "#     def parse_joint(lines, index, parent_name):\n",
    "#         while index < len(lines):\n",
    "#             line = lines[index].strip()\n",
    "#             if line.startswith(\"JOINT\") or line.startswith(\"End Site\"):\n",
    "#                 joint_name = line.split()[-1] if line.startswith(\"JOINT\") else parent_name + \"_end\"\n",
    "#                 joint_names.append(joint_name)\n",
    "#                 parent_indices.append(joint_names.index(parent_name) if parent_name else -1)\n",
    "# \n",
    "#                 offset_line = lines[index + 1].strip()\n",
    "#                 if offset_line.startswith(\"OFFSET\"):\n",
    "#                     offset = np.array([float(val) for val in offset_line.split()[1:]])\n",
    "#                     offsets.append(offset)\n",
    "# \n",
    "#                 if line.startswith(\"JOINT\"):\n",
    "#                     index, _ = parse_joint(lines, index + 2, joint_name)\n",
    "#                 elif line.startswith(\"End Site\"):\n",
    "#                     index += 2\n",
    "#             elif line.startswith(\"}\"):\n",
    "#                 break\n",
    "#             index += 1\n",
    "# \n",
    "#         return index, joint_names\n",
    "# \n",
    "#     parse_joint(lines, 0, None)\n",
    "# \n",
    "#     return joint_names, parent_indices, np.array(offsets)\n",
    "# \n",
    "# bvh_file = \"data/test.bvh\"\n",
    "# joint_names, parent_indices, offsets = parse_bvh_file(bvh_file)\n",
    "# \n",
    "# # Print the results\n",
    "# for i in range(len(joint_names)):\n",
    "#     parent_name = joint_names[parent_indices[i]] if parent_indices[i] != -1 else \"ROOT\"\n",
    "#     print(f\"Joint: {joint_names[i]}, Parent: {parent_name}, Offset: {offsets[i]}\")\n"
   ],
   "metadata": {
    "collapsed": false,
    "ExecuteTime": {
     "end_time": "2023-10-30T07:47:08.771909Z",
     "start_time": "2023-10-30T07:47:08.675563Z"
    }
   },
   "id": "af061fcbef507dc6"
  },
  {
   "cell_type": "code",
   "execution_count": 6,
   "outputs": [
    {
     "data": {
      "text/plain": "(['lHip', 'lHip_end'], [-1, 0], array([], dtype=float64))"
     },
     "execution_count": 6,
     "metadata": {},
     "output_type": "execute_result"
    }
   ],
   "source": [
    "# joint_names, parent_indices, offsets"
   ],
   "metadata": {
    "collapsed": false,
    "ExecuteTime": {
     "end_time": "2023-10-30T07:47:39.675509Z",
     "start_time": "2023-10-30T07:47:39.639491Z"
    }
   },
   "id": "e52c462f91252503"
  },
  {
   "cell_type": "code",
   "execution_count": null,
   "outputs": [],
   "source": [
    "def bvh_end_of_branch(lines: List[str],\n",
    "                      i: int) -> int:\n",
    "    while not lines[i].strip().startswith(\"JOINT\"):\n",
    "        i += 1\n",
    "        \n",
    "    return i - 1\n",
    "\n",
    "        \n",
    "def pose_from_bvh_lines(lines: List[str], \n",
    "                        joint_names: List[str],\n",
    "                        joint_parents: List[int],\n",
    "                        joint_offsets: List[List[float]],\n",
    "                        i: int = 0,\n",
    "                        parent_index: int = -1) -> Optional[int]:\n",
    "    my_joint_name_read = False\n",
    "    my_name_index = 0\n",
    "\n",
    "    while lines[i] != \"MOTION\\n\":\n",
    "        line = lines[i].strip()\n",
    "\n",
    "        if line.startswith(\"JOINT\") or line.startswith(\"ROOT\"):\n",
    "            if my_joint_name_read:\n",
    "                i = pose_from_bvh_lines(lines,\n",
    "                                        joint_names, \n",
    "                                        joint_parents,\n",
    "                                        joint_offsets,\n",
    "                                        i,\n",
    "                                        my_name_index)\n",
    "            else:\n",
    "                joint_parents.append(parent_index)\n",
    "\n",
    "                my_name_index = len(joint_names)\n",
    "                joint_names.append(line.split()[-1])\n",
    "                my_joint_name_read = True\n",
    "                \n",
    "        elif line.startswith(\"OFFSET\"):\n",
    "            joint_offsets.append([float(offset) for offset in line.split()[-3:]])\n",
    "        \n",
    "        elif line.startswith(\"End\"):\n",
    "            joint_parents.append(parent_index)\n",
    "            \n",
    "            joint_names.append(joint_names[parent_index] + \"_end\")\n",
    "            joint_offsets.append([float(offset) for offset in lines[i + 2].split()[-3:]])\n",
    "            return bvh_end_of_branch(lines, i)\n",
    "        \n",
    "        i += 1\n",
    "        \n",
    "    return \n",
    "    \n",
    "\n",
    "def part1_calculate_T_pose(bvh_file_path: str) -> Tuple[List[str], List[int], np.ndarray]:\n",
    "    \n",
    "    joint_names = []\n",
    "    joint_parents = []\n",
    "    joint_offsets = []\n",
    "    \n",
    "    with open(bvh_file_path, 'r') as bvh:\n",
    "        lines = bvh.readlines()\n",
    "        \n",
    "        pose_from_bvh_lines(lines,\n",
    "                            joint_names, \n",
    "                            joint_parents, \n",
    "                            joint_offsets)\n",
    "            \n",
    "    return joint_names, joint_parents, np.array(joint_offsets, dtype=np.float64)\n",
    "    "
   ],
   "metadata": {
    "collapsed": false
   },
   "id": "818b7412b734411f"
  },
  {
   "cell_type": "code",
   "execution_count": null,
   "outputs": [],
   "source": [
    "def pose_from_bvh_file(file, \n",
    "                        joint_names: List[str],\n",
    "                        joint_parents: List[int],\n",
    "                        joint_offsets: List[List[float]],\n",
    "                        parent_index: int = -1) -> None:\n",
    "    my_joint_name_read = False\n",
    "    my_name_index = 0\n",
    "\n",
    "    line = file.nextline().strip()\n",
    "    while line != \"MOTION\":\n",
    "            \n",
    "        if line.startswith(\"JOINT\") or line.startswith(\"ROOT\"):\n",
    "            if my_joint_name_read:\n",
    "                file.seek(-1, 1)\n",
    "                pose_from_bvh_file(file,\n",
    "                                    joint_names, \n",
    "                                    joint_parents,\n",
    "                                    joint_offsets,\n",
    "                                    my_name_index)\n",
    "            else:\n",
    "                joint_parents.append(parent_index)\n",
    "                \n",
    "                my_name_index = len(joint_names)\n",
    "                joint_names.append(line.split()[-1])\n",
    "                my_joint_name_read = True\n",
    "                \n",
    "        elif line.startswith(\"OFFSET\"):\n",
    "            joint_offsets.append([float(offset) for offset in line.split()[-3:]])\n",
    "        \n",
    "        elif line.startswith(\"End\"):\n",
    "            joint_parents.append(parent_index)            \n",
    "\n",
    "            joint_names.append(joint_names[parent_index] + \"_end\")\n",
    "            file.seek(1, 1) # down by 1 or 2?\n",
    "            joint_offsets.append([float(offset) for offset in file.nextline().split()[-3:]])\n",
    "            \n",
    "            move_file_pointer_to_sibling(file)\n",
    "            \n",
    "        line = file.nextline().strip()"
   ],
   "metadata": {
    "collapsed": false
   },
   "id": "47aeaa19d78af77d"
  },
  {
   "cell_type": "code",
   "execution_count": null,
   "outputs": [],
   "source": [],
   "metadata": {
    "collapsed": false
   },
   "id": "4ef25c8ea4e64ada"
  }
 ],
 "metadata": {
  "kernelspec": {
   "display_name": "Python 3",
   "language": "python",
   "name": "python3"
  },
  "language_info": {
   "codemirror_mode": {
    "name": "ipython",
    "version": 2
   },
   "file_extension": ".py",
   "mimetype": "text/x-python",
   "name": "python",
   "nbconvert_exporter": "python",
   "pygments_lexer": "ipython2",
   "version": "2.7.6"
  }
 },
 "nbformat": 4,
 "nbformat_minor": 5
}
