{
 "cells": [
  {
   "cell_type": "code",
   "execution_count": 60,
   "outputs": [],
   "source": [
    "import numpy as np\n",
    "from scipy.spatial.transform import Rotation as R\n",
    "from lab1.task2_inverse_kinematics import MetaData\n",
    "from lab1.task1_forward_kinematics import *"
   ],
   "metadata": {
    "collapsed": false,
    "ExecuteTime": {
     "end_time": "2023-11-08T01:48:55.270643200Z",
     "start_time": "2023-11-08T01:48:55.263662200Z"
    }
   },
   "id": "b49ddcff7a34e56e"
  },
  {
   "cell_type": "code",
   "execution_count": 13,
   "id": "initial_id",
   "metadata": {
    "collapsed": true,
    "ExecuteTime": {
     "end_time": "2023-11-07T23:53:11.287395200Z",
     "start_time": "2023-11-07T23:53:11.281411400Z"
    }
   },
   "outputs": [
    {
     "data": {
      "text/plain": "[1, 2, 3]"
     },
     "execution_count": 13,
     "metadata": {},
     "output_type": "execute_result"
    }
   ],
   "source": [
    "l = [1, 2, 3]\n",
    "l"
   ]
  },
  {
   "cell_type": "code",
   "execution_count": 14,
   "outputs": [
    {
     "data": {
      "text/plain": "([3, 2, 1], [1, 2, 3])"
     },
     "execution_count": 14,
     "metadata": {},
     "output_type": "execute_result"
    }
   ],
   "source": [
    "list(reversed(l)), l"
   ],
   "metadata": {
    "collapsed": false,
    "ExecuteTime": {
     "end_time": "2023-11-07T23:53:11.632893900Z",
     "start_time": "2023-11-07T23:53:11.626901500Z"
    }
   },
   "id": "c87f4093b91379b1"
  },
  {
   "cell_type": "code",
   "execution_count": 15,
   "outputs": [
    {
     "data": {
      "text/plain": "(3, [1, 2])"
     },
     "execution_count": 15,
     "metadata": {},
     "output_type": "execute_result"
    }
   ],
   "source": [
    "l.pop(), l"
   ],
   "metadata": {
    "collapsed": false,
    "ExecuteTime": {
     "end_time": "2023-11-07T23:53:12.085794600Z",
     "start_time": "2023-11-07T23:53:12.075821700Z"
    }
   },
   "id": "84fab617d595f216"
  },
  {
   "cell_type": "code",
   "execution_count": null,
   "outputs": [],
   "source": [
    "bvh_file_path = \"../data/truncated_walk60.bvh\"\n",
    "joint_name, joint_parent, joint_offset = part1_calculate_T_pose(bvh_file_path)\n",
    "motion_data = load_motion_data(bvh_file_path)\n",
    "joint_positions, joint_orientations = part2_forward_kinematics(joint_name, joint_parent, joint_offset, motion_data, 0)\n",
    "meta_data = MetaData(joint_name, joint_parent, joint_positions, '?', '?')\n",
    "target_end = np.array([])"
   ],
   "metadata": {
    "collapsed": false
   },
   "id": "dd4bf2ec95d5442e"
  },
  {
   "cell_type": "code",
   "execution_count": null,
   "outputs": [],
   "source": [
    "path, path_names, end_to_root, fixed_to_root = meta_data\n",
    "    \n",
    "\n"
   ],
   "metadata": {
    "collapsed": false
   },
   "id": "20b1b50f36d6712c"
  },
  {
   "cell_type": "code",
   "execution_count": null,
   "outputs": [],
   "source": [
    "joint_positions, joint_orientations"
   ],
   "metadata": {
    "collapsed": false
   },
   "id": "c2d14756cda06e8e"
  },
  {
   "cell_type": "code",
   "execution_count": 25,
   "outputs": [
    {
     "data": {
      "text/plain": "<list_reverseiterator at 0x23fffe72be0>"
     },
     "execution_count": 25,
     "metadata": {},
     "output_type": "execute_result"
    }
   ],
   "source": [
    "reversed(l)"
   ],
   "metadata": {
    "collapsed": false,
    "ExecuteTime": {
     "end_time": "2023-11-07T23:56:14.806656800Z",
     "start_time": "2023-11-07T23:56:14.794689Z"
    }
   },
   "id": "67e05b34d7261211"
  },
  {
   "cell_type": "code",
   "execution_count": 17,
   "outputs": [
    {
     "name": "stdout",
     "output_type": "stream",
     "text": [
      "hello\n"
     ]
    }
   ],
   "source": [
    "print(\"hello\")"
   ],
   "metadata": {
    "collapsed": false,
    "ExecuteTime": {
     "end_time": "2023-11-07T23:53:23.484909100Z",
     "start_time": "2023-11-07T23:53:23.474935900Z"
    }
   },
   "id": "3496d80b384606eb"
  },
  {
   "cell_type": "code",
   "execution_count": 18,
   "outputs": [
    {
     "data": {
      "text/plain": "4"
     },
     "execution_count": 18,
     "metadata": {},
     "output_type": "execute_result"
    }
   ],
   "source": [
    "l = [2, 3, 4, 5]\n",
    "len(l)"
   ],
   "metadata": {
    "collapsed": false,
    "ExecuteTime": {
     "end_time": "2023-11-07T23:53:36.232501400Z",
     "start_time": "2023-11-07T23:53:36.222527900Z"
    }
   },
   "id": "6a849a60f5710e48"
  },
  {
   "cell_type": "code",
   "execution_count": 35,
   "outputs": [
    {
     "data": {
      "text/plain": "[2, 3, 4, 5]"
     },
     "execution_count": 35,
     "metadata": {},
     "output_type": "execute_result"
    }
   ],
   "source": [
    "l"
   ],
   "metadata": {
    "collapsed": false,
    "ExecuteTime": {
     "end_time": "2023-11-08T00:00:49.991863100Z",
     "start_time": "2023-11-08T00:00:49.985875700Z"
    }
   },
   "id": "7bc17b4eedaaf269"
  },
  {
   "cell_type": "code",
   "execution_count": 45,
   "outputs": [
    {
     "name": "stdout",
     "output_type": "stream",
     "text": [
      "2\n",
      "3\n",
      "4\n"
     ]
    }
   ],
   "source": [
    "for i in l[:-1][::1]:\n",
    "    print(i)"
   ],
   "metadata": {
    "collapsed": false,
    "ExecuteTime": {
     "end_time": "2023-11-08T00:02:14.470044300Z",
     "start_time": "2023-11-08T00:02:14.461069300Z"
    }
   },
   "id": "c84ecfa807c214f4"
  },
  {
   "cell_type": "code",
   "execution_count": 52,
   "outputs": [
    {
     "data": {
      "text/plain": "array([[1., 1., 1.],\n       [0., 0., 0.],\n       [0., 0., 0.]])"
     },
     "execution_count": 52,
     "metadata": {},
     "output_type": "execute_result"
    }
   ],
   "source": [
    "a = np.empty((3,3), dtype=np.float64)\n",
    "a"
   ],
   "metadata": {
    "collapsed": false,
    "ExecuteTime": {
     "end_time": "2023-11-08T01:19:21.553133800Z",
     "start_time": "2023-11-08T01:19:21.548147100Z"
    }
   },
   "id": "84ce06c880f3636c"
  },
  {
   "cell_type": "code",
   "execution_count": 53,
   "outputs": [
    {
     "data": {
      "text/plain": "array([[1., 1., 1.],\n       [0., 0., 0.],\n       [0., 0., 0.]])"
     },
     "execution_count": 53,
     "metadata": {},
     "output_type": "execute_result"
    }
   ],
   "source": [
    "a[0] = np.ones_like(a[0])\n",
    "a"
   ],
   "metadata": {
    "collapsed": false,
    "ExecuteTime": {
     "end_time": "2023-11-08T01:19:21.925599700Z",
     "start_time": "2023-11-08T01:19:21.920613100Z"
    }
   },
   "id": "b20d7a7bc1a0647f"
  },
  {
   "cell_type": "code",
   "execution_count": 61,
   "outputs": [
    {
     "data": {
      "text/plain": "scipy.spatial.transform._rotation.Rotation"
     },
     "execution_count": 61,
     "metadata": {},
     "output_type": "execute_result"
    }
   ],
   "source": [
    "type(R.from_quat([1, 0, 0, 0]))"
   ],
   "metadata": {
    "collapsed": false,
    "ExecuteTime": {
     "end_time": "2023-11-08T01:48:58.596867Z",
     "start_time": "2023-11-08T01:48:58.589885900Z"
    }
   },
   "id": "63bd2a8d6511f56"
  },
  {
   "cell_type": "code",
   "execution_count": null,
   "outputs": [],
   "source": [
    "def joint_offsets_from_positions(joint_positions: np.ndarray,\n",
    "                                 joint_parents: List[int]) -> np.ndarray:\n",
    "    offsets = np.empty_like(joint_positions)\n",
    "    offsets[0] = np.zeros_like(offsets[0])\n",
    "\n",
    "    for i in range(1, joint_positions.shape[0]):\n",
    "        offsets[i] = joint_positions[i] - joint_positions[joint_parents[i]]\n",
    "\n",
    "    return offsets"
   ],
   "metadata": {
    "collapsed": false
   },
   "id": "3b34e5b53e0165d1"
  },
  {
   "cell_type": "code",
   "execution_count": null,
   "outputs": [],
   "source": [
    "def update_chain_orientations(path: List[int],\n",
    "                              start: int,\n",
    "                              rotation,\n",
    "                              joint_orientations: np.ndarray) -> None:\n",
    "    \"\"\"\n",
    "    Update the orientations of joints from index \"start\" to the end effector (exclusive) in a chain of joints defined by \"path\".\n",
    "    \"\"\"\n",
    "    for i in path[start:-1]:\n",
    "        joint_orientations[i] = (rotation * R.from_quat(joint_orientations[i])).as_quat()"
   ],
   "metadata": {
    "collapsed": false
   },
   "id": "103fdbefaf4dd7e0"
  },
  {
   "cell_type": "code",
   "execution_count": null,
   "outputs": [],
   "source": [
    "from scipy.spatial.transform import Rotation as R\n",
    "from lab1.task1_forward_kinematics import pose_joint_positions\n",
    "\n",
    "def cyclic_coordinate_descent(path: List[int],\n",
    "                              target_end: np.ndarray,\n",
    "                              initial_joint_positions: np.ndarray,\n",
    "                              joint_parents: List[int],\n",
    "                              joint_positions: np.ndarray,\n",
    "                              joint_orientations: np.ndarray,\n",
    "                              max_iterations: int = 20,\n",
    "                              max_error: float = 0.01,\n",
    "                              order: int = 1) -> None:\n",
    "    assert order == 1 or order == -1\n",
    "    \n",
    "    joint_offsets = joint_offsets_from_positions(joint_positions,\n",
    "                                                 joint_parents)\n",
    "    iteration_count = 0\n",
    "    \n",
    "    for i in path[:-1][::order]: # TODO: right now ccd only goes through joint at most once.\n",
    "        if max_iterations <= iteration_count or np.linalg.norm(joint_positions[path[-1]] - target_end) <= max_error:\n",
    "            break\n",
    "        \n",
    "        displacement = joint_positions[path[-1]] - joint_positions[i]\n",
    "        target_displacement = target_end - joint_positions[i]\n",
    "        # axis_of_rotation = np.cross(displacement, target_displacement)\n",
    "        angle_of_rotation = np.arccos(np.dot(displacement, target_displacement) \n",
    "                                      / (np.linalg.norm(displacement) * np.linalg.norm(target_displacement)))\n",
    "        rotation = R.from_rotvec(axis_of_rotation / angle_of_rotation)\n",
    "        update_chain_orientations(joint_orientations, path[i:], rotation)\n",
    "        joint_positions = pose_joint_positions(initial_joint_positions[0], \n",
    "                                                  joint_parents,\n",
    "                                                  joint_offsets,\n",
    "                                                  joint_orientations)\n",
    "        \n",
    "        iteration_count += 1\n",
    "\n",
    "    # traverse each joint index in path (excluding end), in forward or backward fashion:\n",
    "    # for each:\n",
    "        # compute the vector from it (inclusive) to the end (exclusive)\n",
    "        # compute (target_end - fixed)\n",
    "        # cross product these vectors to get the axis of rotation\n",
    "        # dot product these vectors to get the angle (should it be radian or degree?) of rotation.\n",
    "        # compute new orientations for joints in the chain (excluding the end)\n",
    "        # update the positions all joints in the chain (including the end).\n",
    "        \n",
    "\n",
    "def part1_inverse_kinematics(meta_data: MetaData,\n",
    "                             joint_positions: np.ndarray,\n",
    "                             joint_orientations: np.ndarray,\n",
    "                             target_end: np.ndarray):\n",
    "    \"\"\"\n",
    "    完成函数，计算逆运动学\n",
    "    输入: \n",
    "        meta_data: 为了方便，将一些固定信息进行了打包，见上面的meta_data类\n",
    "        joint_positions: 当前的关节位置，是一个numpy数组，shape为(M, 3)，M为关节数\n",
    "        joint_orientations: 当前的关节朝向，是一个numpy数组，shape为(M, 4)，M为关节数\n",
    "        target_pose: 目标位置，是一个numpy数组，shape为(3,)\n",
    "    输出:\n",
    "        经过IK后的姿态\n",
    "        joint_positions: 计算得到的关节位置，是一个numpy数组，shape为(M, 3)，M为关节数\n",
    "        joint_orientations: 计算得到的关节朝向，是一个numpy数组，shape为(M, 4)，M为关节数\n",
    "    \"\"\"\n",
    "    path, path_names, end_to_root, fixed_to_root = meta_data.get_path_from_root_to_end()\n",
    "    \n",
    "    cyclic_coordinate_descent(path, \n",
    "                              target_end, \n",
    "                              meta_data.joint_initial_position, \n",
    "                              meta_data.joint_parent,\n",
    "                              joint_positions, \n",
    "                              joint_orientations)\n",
    "\n",
    "    return joint_positions, joint_orientations"
   ],
   "metadata": {
    "collapsed": false
   },
   "id": "e43ed41796e918e2"
  }
 ],
 "metadata": {
  "kernelspec": {
   "display_name": "Python 3",
   "language": "python",
   "name": "python3"
  },
  "language_info": {
   "codemirror_mode": {
    "name": "ipython",
    "version": 2
   },
   "file_extension": ".py",
   "mimetype": "text/x-python",
   "name": "python",
   "nbconvert_exporter": "python",
   "pygments_lexer": "ipython2",
   "version": "2.7.6"
  }
 },
 "nbformat": 4,
 "nbformat_minor": 5
}
